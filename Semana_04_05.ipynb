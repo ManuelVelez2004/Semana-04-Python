{
  "nbformat": 4,
  "nbformat_minor": 0,
  "metadata": {
    "colab": {
      "provenance": [],
      "authorship_tag": "ABX9TyP/tRg9Nt/X+Dpef+JBXF6g",
      "include_colab_link": true
    },
    "kernelspec": {
      "name": "python3",
      "display_name": "Python 3"
    },
    "language_info": {
      "name": "python"
    }
  },
  "cells": [
    {
      "cell_type": "markdown",
      "metadata": {
        "id": "view-in-github",
        "colab_type": "text"
      },
      "source": [
        "<a href=\"https://colab.research.google.com/github/ManuelVelez2004/Semana-04-Python/blob/main/Semana_04_05.ipynb\" target=\"_parent\"><img src=\"https://colab.research.google.com/assets/colab-badge.svg\" alt=\"Open In Colab\"/></a>"
      ]
    },
    {
      "cell_type": "markdown",
      "source": [
        "Agenda\n",
        "1. Numeros\n",
        "2. Variables\n",
        "3. Manejo de Cadenas\n",
        "4. Ingreso por el teclado\n",
        "5. Operadores\n",
        "\n",
        "5.Operadores"
      ],
      "metadata": {
        "id": "H1pQgBEqd-RB"
      }
    },
    {
      "cell_type": "code",
      "source": [
        "#5.1 Operadores aritmeticos\n",
        "#se tiene : +,-,*,/,**,%,//"
      ],
      "metadata": {
        "id": "RAapqzbbd-1p"
      },
      "execution_count": null,
      "outputs": []
    },
    {
      "cell_type": "code",
      "source": [
        "numero1=12\n",
        "numero2=5\n",
        "suma=numero1+numero2\n",
        "resta=numero1-numero2\n",
        "multiplicacion = numero1 * numero2\n",
        "division = numero1 / numero2\n",
        "residuo = numero1 % numero2\n",
        "cociente = numero1 // numero2\n",
        "potencia = numero1 ** numero2\n",
        "print(suma)\n",
        "print(resta)\n",
        "print(multiplicacion)\n",
        "print(division)\n",
        "print(residuo)\n",
        "print(cociente)\n",
        "print(potencia)"
      ],
      "metadata": {
        "colab": {
          "base_uri": "https://localhost:8080/"
        },
        "id": "hXU1k1xJeQSp",
        "outputId": "9d6aa90b-c234-4429-ec3f-a7b96c7938a2"
      },
      "execution_count": null,
      "outputs": [
        {
          "output_type": "stream",
          "name": "stdout",
          "text": [
            "17\n",
            "7\n",
            "60\n",
            "2.4\n",
            "2\n",
            "2\n",
            "248832\n"
          ]
        }
      ]
    },
    {
      "cell_type": "code",
      "source": [
        "# 5.2 Operadores de asignación\n",
        "# Se tiene: =, +=, -=, *=, /=, **=\n",
        "numero = 6\n",
        "numero = numero + 8\n",
        "print(numero)"
      ],
      "metadata": {
        "colab": {
          "base_uri": "https://localhost:8080/"
        },
        "id": "6GcN6Aa7egqi",
        "outputId": "af69dffe-ad72-4c6d-93c4-6c09bc9a3493"
      },
      "execution_count": null,
      "outputs": [
        {
          "output_type": "stream",
          "name": "stdout",
          "text": [
            "14\n"
          ]
        }
      ]
    },
    {
      "cell_type": "code",
      "source": [
        "# La operación anterior también se puede expresar de la siguiente manera:\n",
        "numero = 4\n",
        "numero += 7\n",
        "print(numero)"
      ],
      "metadata": {
        "colab": {
          "base_uri": "https://localhost:8080/"
        },
        "id": "3L_j7PYwjDyp",
        "outputId": "73d5743f-d355-4eef-acac-b90abec1973c"
      },
      "execution_count": null,
      "outputs": [
        {
          "output_type": "stream",
          "name": "stdout",
          "text": [
            "11\n"
          ]
        }
      ]
    },
    {
      "cell_type": "code",
      "source": [
        "# Lo mismo se puede hacer con todos los casos, incluso la potencia\n",
        "# Veamos otro ejemplo:\n",
        "numero = 5\n",
        "numero = numero ** 4\n",
        "print(numero)"
      ],
      "metadata": {
        "colab": {
          "base_uri": "https://localhost:8080/"
        },
        "id": "u4v8N2jhjNBS",
        "outputId": "5e9da486-6675-4ff0-c9a0-ed8cce6858d0"
      },
      "execution_count": null,
      "outputs": [
        {
          "output_type": "stream",
          "name": "stdout",
          "text": [
            "625\n"
          ]
        }
      ]
    },
    {
      "cell_type": "code",
      "source": [
        "# La operación anterior también se puede expresar de la siguiente manera:\n",
        "numero = 5\n",
        "numero **= 4\n",
        "print(numero)"
      ],
      "metadata": {
        "colab": {
          "base_uri": "https://localhost:8080/"
        },
        "id": "Cr7MZyiNjQPi",
        "outputId": "be6ae975-1c92-4d62-99b5-dd90e14b4a2a"
      },
      "execution_count": null,
      "outputs": [
        {
          "output_type": "stream",
          "name": "stdout",
          "text": [
            "625\n"
          ]
        }
      ]
    },
    {
      "cell_type": "code",
      "source": [
        "# 5.3 Operadores de comparación\n",
        "# Se tiene: ==, !=, <, >, <=, >=,\n",
        "# Ejemplo de igualdad ==\n",
        "numero1 = 6\n",
        "numero2 = 2\n",
        "numero1 == numero2"
      ],
      "metadata": {
        "colab": {
          "base_uri": "https://localhost:8080/"
        },
        "id": "CtsRnPoqjT6i",
        "outputId": "a71f3219-e6f4-442b-f39c-17521ed69950"
      },
      "execution_count": null,
      "outputs": [
        {
          "output_type": "execute_result",
          "data": {
            "text/plain": [
              "False"
            ]
          },
          "metadata": {},
          "execution_count": 11
        }
      ]
    },
    {
      "cell_type": "code",
      "source": [
        "# Con las cadenas funciona igual\n",
        "nombre1 = \"Manuel\"\n",
        "nombre2 = \"Manuel\"\n",
        "nombre1 == nombre2"
      ],
      "metadata": {
        "colab": {
          "base_uri": "https://localhost:8080/"
        },
        "id": "TvfH_1pejYfC",
        "outputId": "9af238e9-1506-4860-e75f-1630d27efb51"
      },
      "execution_count": null,
      "outputs": [
        {
          "output_type": "execute_result",
          "data": {
            "text/plain": [
              "True"
            ]
          },
          "metadata": {},
          "execution_count": 12
        }
      ]
    },
    {
      "cell_type": "code",
      "source": [
        "# 5.4 Operadores lógicos\n",
        "# Se tiene: and, or, not\n",
        "numero1 = 5\n",
        "numero2 = 6\n",
        "numero3 = 7\n",
        "numero4 = 8"
      ],
      "metadata": {
        "id": "GmgwZtGnjgfR"
      },
      "execution_count": null,
      "outputs": []
    },
    {
      "cell_type": "code",
      "source": [
        "numero1 > numero2"
      ],
      "metadata": {
        "colab": {
          "base_uri": "https://localhost:8080/"
        },
        "id": "wGy3ZH9cj-NR",
        "outputId": "53d3aed9-db1d-4638-b0cf-680455ceb580"
      },
      "execution_count": null,
      "outputs": [
        {
          "output_type": "execute_result",
          "data": {
            "text/plain": [
              "False"
            ]
          },
          "metadata": {},
          "execution_count": 16
        }
      ]
    },
    {
      "cell_type": "code",
      "source": [
        "# El not invierte el resultado\n",
        "not(numero1<numero2)"
      ],
      "metadata": {
        "colab": {
          "base_uri": "https://localhost:8080/"
        },
        "id": "Phr8n56Aj_Xh",
        "outputId": "b911227f-36f1-4cfd-fa32-15c075b9f1b4"
      },
      "execution_count": null,
      "outputs": [
        {
          "output_type": "execute_result",
          "data": {
            "text/plain": [
              "False"
            ]
          },
          "metadata": {},
          "execution_count": 15
        }
      ]
    },
    {
      "cell_type": "code",
      "source": [
        "numero1<numero2 and numero3<numero4"
      ],
      "metadata": {
        "colab": {
          "base_uri": "https://localhost:8080/"
        },
        "id": "BnH49SA4kCrS",
        "outputId": "64089518-373b-4509-b5f4-2a51a091b759"
      },
      "execution_count": null,
      "outputs": [
        {
          "output_type": "execute_result",
          "data": {
            "text/plain": [
              "True"
            ]
          },
          "metadata": {},
          "execution_count": 17
        }
      ]
    },
    {
      "cell_type": "code",
      "source": [
        "# Tambien puedes utilizar parentesis para ordenar tu operación\n",
        "(numero1<numero2 and numero3<numero4) or (numero3>numero4)"
      ],
      "metadata": {
        "colab": {
          "base_uri": "https://localhost:8080/"
        },
        "id": "NRwE_q6OkG4h",
        "outputId": "0d2ec9cc-1124-413d-b628-2a41d7b5361b"
      },
      "execution_count": null,
      "outputs": [
        {
          "output_type": "execute_result",
          "data": {
            "text/plain": [
              "True"
            ]
          },
          "metadata": {},
          "execution_count": 18
        }
      ]
    },
    {
      "cell_type": "code",
      "source": [
        "# 5.5 Operadores de Pertenencia\n",
        "# Se tiene: in, not in\n",
        "# Miremos un ejemplo:\n",
        "aula = [\"Juan\", \"Daniel\", \"Ruben\"]\n",
        "alumno1 = \"Diego\"\n",
        "alumno2 = \"Juan\""
      ],
      "metadata": {
        "id": "PDzqJ6fkkKMi"
      },
      "execution_count": null,
      "outputs": []
    },
    {
      "cell_type": "code",
      "source": [
        "# ¿Diego está en aula?\n",
        "alumno1 in aula"
      ],
      "metadata": {
        "colab": {
          "base_uri": "https://localhost:8080/"
        },
        "id": "Q7AhZOHJkquC",
        "outputId": "c4491a9c-d9dd-4062-d07a-6c4b4b2c42e9"
      },
      "execution_count": null,
      "outputs": [
        {
          "output_type": "execute_result",
          "data": {
            "text/plain": [
              "False"
            ]
          },
          "metadata": {},
          "execution_count": 20
        }
      ]
    },
    {
      "cell_type": "code",
      "source": [
        "# ¿Juan está en aula?\n",
        "alumno2 in aula"
      ],
      "metadata": {
        "colab": {
          "base_uri": "https://localhost:8080/"
        },
        "id": "njQS0uM6krhi",
        "outputId": "a08ba300-0b57-458b-dcc3-7d98133cf935"
      },
      "execution_count": null,
      "outputs": [
        {
          "output_type": "execute_result",
          "data": {
            "text/plain": [
              "True"
            ]
          },
          "metadata": {},
          "execution_count": 21
        }
      ]
    },
    {
      "cell_type": "code",
      "source": [
        "# ¿Diego no está en aula?\n",
        "alumno1 not in aula"
      ],
      "metadata": {
        "colab": {
          "base_uri": "https://localhost:8080/"
        },
        "id": "6c8ZZEh1mF9y",
        "outputId": "2144bb28-ddac-492a-d8aa-7adefb287ada"
      },
      "execution_count": null,
      "outputs": [
        {
          "output_type": "execute_result",
          "data": {
            "text/plain": [
              "True"
            ]
          },
          "metadata": {},
          "execution_count": 22
        }
      ]
    },
    {
      "cell_type": "code",
      "source": [
        "# ¿Juan no está en aula?\n",
        "alumno2 not in aula"
      ],
      "metadata": {
        "colab": {
          "base_uri": "https://localhost:8080/"
        },
        "id": "n1asbsa4mGmy",
        "outputId": "e4d4cd64-784a-42f1-9a10-2bb16a20f87e"
      },
      "execution_count": null,
      "outputs": [
        {
          "output_type": "execute_result",
          "data": {
            "text/plain": [
              "False"
            ]
          },
          "metadata": {},
          "execution_count": 23
        }
      ]
    },
    {
      "cell_type": "code",
      "source": [
        "# 5.6 Operadores de identidad\n",
        "# Se tiene: is, is not\n",
        "aula1 = [\"Juan\", \"Daniel\", \"Ruben\"]\n",
        "aula2 = [\"Juan\", \"Daniel\", \"Ruben\"]\n",
        "# A continuación vamos a indicar que aula3 va a\n",
        "# compartir el mismo objeto que aula1\n",
        "aula3 = aula1"
      ],
      "metadata": {
        "id": "pVwG64H_mIly"
      },
      "execution_count": null,
      "outputs": []
    },
    {
      "cell_type": "code",
      "source": [
        "# ¿aula3 comparte el mismo objeto que aula1 ?\n",
        "aula3 is aula1"
      ],
      "metadata": {
        "colab": {
          "base_uri": "https://localhost:8080/"
        },
        "id": "GEfi5aZOmNDi",
        "outputId": "99227798-5432-4268-da10-a3268e44998e"
      },
      "execution_count": null,
      "outputs": [
        {
          "output_type": "execute_result",
          "data": {
            "text/plain": [
              "True"
            ]
          },
          "metadata": {},
          "execution_count": 25
        }
      ]
    },
    {
      "cell_type": "code",
      "source": [
        "# ¿ aula3 comparte el mismo objeto que aula2 ?\n",
        "aula3 is aula2"
      ],
      "metadata": {
        "colab": {
          "base_uri": "https://localhost:8080/"
        },
        "id": "dBu63yC2mOoC",
        "outputId": "47bae4d2-0934-439b-d666-1dbf81a9cb82"
      },
      "execution_count": null,
      "outputs": [
        {
          "output_type": "execute_result",
          "data": {
            "text/plain": [
              "False"
            ]
          },
          "metadata": {},
          "execution_count": 26
        }
      ]
    },
    {
      "cell_type": "code",
      "source": [
        "# ¿ aula2 comparte el mismo objeto que aula1 ?\n",
        "aula2 is aula1"
      ],
      "metadata": {
        "colab": {
          "base_uri": "https://localhost:8080/"
        },
        "id": "M_5J9KxQmQsC",
        "outputId": "47fbe5b1-5738-4607-8546-9791532ffbe0"
      },
      "execution_count": null,
      "outputs": [
        {
          "output_type": "execute_result",
          "data": {
            "text/plain": [
              "False"
            ]
          },
          "metadata": {},
          "execution_count": 27
        }
      ]
    },
    {
      "cell_type": "code",
      "source": [
        "aula1.append(\"Diego\")\n",
        "# Al imprimir los elementos de la lista aula1 se observa\n",
        "print(aula1)"
      ],
      "metadata": {
        "colab": {
          "base_uri": "https://localhost:8080/"
        },
        "id": "BEyyH0XUmTdi",
        "outputId": "5e4eba23-5c21-49dc-cfc0-61a87c0da0d4"
      },
      "execution_count": null,
      "outputs": [
        {
          "output_type": "stream",
          "name": "stdout",
          "text": [
            "['Juan', 'Daniel', 'Ruben', 'Diego']\n"
          ]
        }
      ]
    },
    {
      "cell_type": "code",
      "source": [
        "# Al imprimir los elementos de la lista aula3 se observa\n",
        "print(aula3)"
      ],
      "metadata": {
        "id": "QK7VLMq-mfsy",
        "outputId": "0781c010-f110-45d0-e475-9fde8ec95eaf",
        "colab": {
          "base_uri": "https://localhost:8080/"
        }
      },
      "execution_count": null,
      "outputs": [
        {
          "output_type": "stream",
          "name": "stdout",
          "text": [
            "['Juan', 'Daniel', 'Ruben', 'Diego']\n"
          ]
        }
      ]
    },
    {
      "cell_type": "code",
      "source": [
        "# Al imprimir los elementos de la lista aula2 se observa\n",
        "print(aula2)"
      ],
      "metadata": {
        "id": "AGDB22QsmgXi",
        "outputId": "907abc5a-6e82-46a9-ee4b-b340cfba0749",
        "colab": {
          "base_uri": "https://localhost:8080/"
        }
      },
      "execution_count": null,
      "outputs": [
        {
          "output_type": "stream",
          "name": "stdout",
          "text": [
            "['Juan', 'Daniel', 'Ruben']\n"
          ]
        }
      ]
    },
    {
      "cell_type": "code",
      "source": [],
      "metadata": {
        "id": "QCKuduJymiXS"
      },
      "execution_count": null,
      "outputs": []
    }
  ]
}