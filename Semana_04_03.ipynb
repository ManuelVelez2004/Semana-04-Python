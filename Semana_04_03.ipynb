{
  "nbformat": 4,
  "nbformat_minor": 0,
  "metadata": {
    "colab": {
      "provenance": [],
      "authorship_tag": "ABX9TyPyKJRko1zqxpEt3w8Mh+bA",
      "include_colab_link": true
    },
    "kernelspec": {
      "name": "python3",
      "display_name": "Python 3"
    },
    "language_info": {
      "name": "python"
    }
  },
  "cells": [
    {
      "cell_type": "markdown",
      "metadata": {
        "id": "view-in-github",
        "colab_type": "text"
      },
      "source": [
        "<a href=\"https://colab.research.google.com/github/ManuelVelez2004/Semana-04-Python/blob/main/Semana_04_03.ipynb\" target=\"_parent\"><img src=\"https://colab.research.google.com/assets/colab-badge.svg\" alt=\"Open In Colab\"/></a>"
      ]
    },
    {
      "cell_type": "markdown",
      "source": [
        "Semana04-03\n",
        "Manuel Silverio Velez de Villa Huacachi"
      ],
      "metadata": {
        "id": "y5dBWj60S7HJ"
      }
    },
    {
      "cell_type": "markdown",
      "source": [
        "Agenda\n",
        "1. Numeros\n",
        "2. Variables\n",
        "3. Manejo de Cadenas\n",
        "4. Ingreso por el teclado\n",
        "5. Operadores"
      ],
      "metadata": {
        "id": "RsF_ZQVJTIxJ"
      }
    },
    {
      "cell_type": "markdown",
      "source": [
        "3. Manejo de Cadenas"
      ],
      "metadata": {
        "id": "T6qB25e6TKNZ"
      }
    },
    {
      "cell_type": "code",
      "source": [
        "cadena = 'Universidad Tecnologica de Lima Sur'\n",
        "cadena"
      ],
      "metadata": {
        "colab": {
          "base_uri": "https://localhost:8080/",
          "height": 35
        },
        "id": "1n1WMhFzTOEx",
        "outputId": "e59d3574-a999-461b-b5fe-1149226fb5b1"
      },
      "execution_count": null,
      "outputs": [
        {
          "output_type": "execute_result",
          "data": {
            "text/plain": [
              "'Universidad Tecnologica de Lima Sur'"
            ],
            "application/vnd.google.colaboratory.intrinsic+json": {
              "type": "string"
            }
          },
          "metadata": {},
          "execution_count": 1
        }
      ]
    },
    {
      "cell_type": "code",
      "source": [
        "#Universidad Tecnologica de Lima Sur\n",
        "#01234.................\n",
        "#................................-2-1\n",
        "cadena[5]"
      ],
      "metadata": {
        "colab": {
          "base_uri": "https://localhost:8080/",
          "height": 35
        },
        "id": "VKw2ryzOTdYB",
        "outputId": "ba06018c-f572-41e5-d188-e530fb792324"
      },
      "execution_count": null,
      "outputs": [
        {
          "output_type": "execute_result",
          "data": {
            "text/plain": [
              "'r'"
            ],
            "application/vnd.google.colaboratory.intrinsic+json": {
              "type": "string"
            }
          },
          "metadata": {},
          "execution_count": 2
        }
      ]
    },
    {
      "cell_type": "code",
      "source": [
        "cadena[10]"
      ],
      "metadata": {
        "colab": {
          "base_uri": "https://localhost:8080/",
          "height": 35
        },
        "id": "J4zEs9WNT1bR",
        "outputId": "1ff4770e-e65b-4f66-aed1-bf29c78761d7"
      },
      "execution_count": null,
      "outputs": [
        {
          "output_type": "execute_result",
          "data": {
            "text/plain": [
              "'d'"
            ],
            "application/vnd.google.colaboratory.intrinsic+json": {
              "type": "string"
            }
          },
          "metadata": {},
          "execution_count": 3
        }
      ]
    },
    {
      "cell_type": "code",
      "source": [
        "#Tambien se considera los espacios en blanco\n",
        "cadena[11]"
      ],
      "metadata": {
        "id": "dblWPXltUSQp"
      },
      "execution_count": null,
      "outputs": []
    },
    {
      "cell_type": "code",
      "source": [
        "cadena[-23]"
      ],
      "metadata": {
        "colab": {
          "base_uri": "https://localhost:8080/",
          "height": 35
        },
        "id": "BqCiFMJbUUQv",
        "outputId": "954d5941-407e-476f-9b12-0d846eb3a7db"
      },
      "execution_count": null,
      "outputs": [
        {
          "output_type": "execute_result",
          "data": {
            "text/plain": [
              "'T'"
            ],
            "application/vnd.google.colaboratory.intrinsic+json": {
              "type": "string"
            }
          },
          "metadata": {},
          "execution_count": 5
        }
      ]
    },
    {
      "cell_type": "code",
      "source": [
        "#Para mostrar una subcadena [desde, hasta una antes]\n",
        "#En java era substring()\n",
        "cadena[3:8]"
      ],
      "metadata": {
        "colab": {
          "base_uri": "https://localhost:8080/",
          "height": 35
        },
        "id": "LWLtXnC8UXKg",
        "outputId": "bdf34f1b-5858-4c2c-ad3b-27a26c9c9b29"
      },
      "execution_count": null,
      "outputs": [
        {
          "output_type": "execute_result",
          "data": {
            "text/plain": [
              "'versi'"
            ],
            "application/vnd.google.colaboratory.intrinsic+json": {
              "type": "string"
            }
          },
          "metadata": {},
          "execution_count": 7
        }
      ]
    },
    {
      "cell_type": "code",
      "source": [
        "#Para saber el tamaño de una cadena usamos len()\n",
        "#inclye espacios en blanco\n",
        "len(cadena)"
      ],
      "metadata": {
        "colab": {
          "base_uri": "https://localhost:8080/"
        },
        "id": "9GPqDwWqUs-x",
        "outputId": "ec3d9be3-10dd-4b48-b5b5-4a7f3554cc68"
      },
      "execution_count": null,
      "outputs": [
        {
          "output_type": "execute_result",
          "data": {
            "text/plain": [
              "35"
            ]
          },
          "metadata": {},
          "execution_count": 8
        }
      ]
    },
    {
      "cell_type": "code",
      "source": [
        "#para mostrar una cadena en mayuscula utilizamos upper()\n",
        "cadena.upper()"
      ],
      "metadata": {
        "colab": {
          "base_uri": "https://localhost:8080/",
          "height": 35
        },
        "id": "6J8YesRAU9hg",
        "outputId": "387cfcf2-0e83-47ff-9253-9049ef625410"
      },
      "execution_count": null,
      "outputs": [
        {
          "output_type": "execute_result",
          "data": {
            "text/plain": [
              "'UNIVERSIDAD TECNOLOGICA DE LIMA SUR'"
            ],
            "application/vnd.google.colaboratory.intrinsic+json": {
              "type": "string"
            }
          },
          "metadata": {},
          "execution_count": 9
        }
      ]
    },
    {
      "cell_type": "code",
      "source": [
        "cadena.lower()"
      ],
      "metadata": {
        "colab": {
          "base_uri": "https://localhost:8080/",
          "height": 35
        },
        "id": "6zRG_nw9VHNA",
        "outputId": "b8733f8a-2057-4f0d-d9ad-56093c4dc62c"
      },
      "execution_count": null,
      "outputs": [
        {
          "output_type": "execute_result",
          "data": {
            "text/plain": [
              "'universidad tecnologica de lima sur'"
            ],
            "application/vnd.google.colaboratory.intrinsic+json": {
              "type": "string"
            }
          },
          "metadata": {},
          "execution_count": 11
        }
      ]
    },
    {
      "cell_type": "code",
      "source": [
        "#Generar una lista a partir de una cadena  split()\n",
        "cadena.split()"
      ],
      "metadata": {
        "colab": {
          "base_uri": "https://localhost:8080/"
        },
        "id": "ayR9QT_2VL2m",
        "outputId": "0f07e234-c31c-49a5-c0db-6d3ce715055b"
      },
      "execution_count": null,
      "outputs": [
        {
          "output_type": "execute_result",
          "data": {
            "text/plain": [
              "['Universidad', 'Tecnologica', 'de', 'Lima', 'Sur']"
            ]
          },
          "metadata": {},
          "execution_count": 12
        }
      ]
    },
    {
      "cell_type": "code",
      "source": [
        "#Generar una lista utilizando un criterio de separcion a partir de una cadena\n",
        "#EN este caso vamos a generar una lista de toda la cadena,\n",
        "#\n",
        "cadena.split(\"a\")"
      ],
      "metadata": {
        "colab": {
          "base_uri": "https://localhost:8080/"
        },
        "id": "1PL2Zt5ZVf4w",
        "outputId": "60cd234c-dde5-4996-b385-a7b443d733f1"
      },
      "execution_count": null,
      "outputs": [
        {
          "output_type": "execute_result",
          "data": {
            "text/plain": [
              "['Universid', 'd Tecnologic', ' de Lim', ' Sur']"
            ]
          },
          "metadata": {},
          "execution_count": 14
        }
      ]
    },
    {
      "cell_type": "code",
      "source": [
        "#forma clasica de concaternar\n",
        "nombre = \"manuel\"\n",
        "print(\"Hola \"+ nombre)"
      ],
      "metadata": {
        "colab": {
          "base_uri": "https://localhost:8080/"
        },
        "id": "rAjF0656XWih",
        "outputId": "4c1a752e-647d-4cbb-c31a-7f57d5c3baec"
      },
      "execution_count": null,
      "outputs": [
        {
          "output_type": "stream",
          "name": "stdout",
          "text": [
            "Hola manuel\n"
          ]
        }
      ]
    },
    {
      "cell_type": "code",
      "source": [
        "#utilizando el .format()\n",
        "nombre = \"Manuel Silverio\"\n",
        "edad = 18\n",
        "print(\"Hola {} ya se que tienes {} años\".format(nombre, edad))"
      ],
      "metadata": {
        "colab": {
          "base_uri": "https://localhost:8080/"
        },
        "id": "EGz7ZIwZXs6h",
        "outputId": "a148f3fe-fbd3-40ab-963f-6e615d3436f1"
      },
      "execution_count": null,
      "outputs": [
        {
          "output_type": "stream",
          "name": "stdout",
          "text": [
            "Hola Manuel Silverio ya se que tienes 18 años\n"
          ]
        }
      ]
    },
    {
      "cell_type": "code",
      "source": [
        "#dar formato a numeros con muchos decimales\n",
        "resultado = 10/3\n",
        "print(\"10/3 es {} \".format(resultado))\n",
        "print(\"10/3 es = {r:1.2f}\".format(r=resultado))"
      ],
      "metadata": {
        "colab": {
          "base_uri": "https://localhost:8080/"
        },
        "id": "v9qdFPBIYWDw",
        "outputId": "2666a9bb-57ec-40a8-d109-4e005ba47dd4"
      },
      "execution_count": null,
      "outputs": [
        {
          "output_type": "stream",
          "name": "stdout",
          "text": [
            "10/3 es 3.3333333333333335 \n",
            "10/3 es = 3.33\n"
          ]
        }
      ]
    },
    {
      "cell_type": "code",
      "source": [
        "#Dar como formato con f\n",
        "#La funcion f, esta disponible desde la version 3.6\n",
        "nombre = \"Manuel Silverio\"\n",
        "edad = 20\n",
        "print(f\"Buenos dias {nombre}, ya se que tienes {edad} años\")"
      ],
      "metadata": {
        "colab": {
          "base_uri": "https://localhost:8080/"
        },
        "id": "RUxCjNC7Y7vh",
        "outputId": "a30cb796-b1db-4659-f921-c01270035ca7"
      },
      "execution_count": null,
      "outputs": [
        {
          "output_type": "stream",
          "name": "stdout",
          "text": [
            "Buenos dias Manuel Silverio, ya se que tienes 20 años\n"
          ]
        }
      ]
    },
    {
      "cell_type": "code",
      "source": [
        "#Dar formato a numros con muchos decimales con f\n",
        "resultado =10/3\n",
        "print(f\"10/3 es = {resultado}\")\n",
        "print(f\"10/3 es = {resultado:1.2f}\")"
      ],
      "metadata": {
        "colab": {
          "base_uri": "https://localhost:8080/"
        },
        "id": "XrinLomyZVBB",
        "outputId": "646dfa79-ebc7-45a3-d2ce-5a925c7dbcc2"
      },
      "execution_count": null,
      "outputs": [
        {
          "output_type": "stream",
          "name": "stdout",
          "text": [
            "10/3 es = 3.3333333333333335\n",
            "10/3 es = 3.33\n"
          ]
        }
      ]
    },
    {
      "cell_type": "code",
      "source": [],
      "metadata": {
        "id": "HiGDY25cZspw"
      },
      "execution_count": null,
      "outputs": []
    }
  ]
}