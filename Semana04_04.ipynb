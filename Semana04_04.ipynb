{
  "nbformat": 4,
  "nbformat_minor": 0,
  "metadata": {
    "colab": {
      "provenance": [],
      "authorship_tag": "ABX9TyMRqUrMMis02Uw7gSgZHG1D",
      "include_colab_link": true
    },
    "kernelspec": {
      "name": "python3",
      "display_name": "Python 3"
    },
    "language_info": {
      "name": "python"
    }
  },
  "cells": [
    {
      "cell_type": "markdown",
      "metadata": {
        "id": "view-in-github",
        "colab_type": "text"
      },
      "source": [
        "<a href=\"https://colab.research.google.com/github/ManuelVelez2004/Semana-04-Python/blob/main/Semana04_04.ipynb\" target=\"_parent\"><img src=\"https://colab.research.google.com/assets/colab-badge.svg\" alt=\"Open In Colab\"/></a>"
      ]
    },
    {
      "cell_type": "markdown",
      "source": [
        "Agenda\n",
        "1. Numeros\n",
        "2. Variables\n",
        "3. Manejo de Cadenas\n",
        "4. Ingreso por el teclado\n",
        "5. Operadores\n",
        "\n",
        "4.Ingreso por el teclado"
      ],
      "metadata": {
        "id": "globiP9tbaxx"
      }
    },
    {
      "cell_type": "code",
      "source": [
        "#funcion input()\n",
        "print(\"¿cual es tu nombre?\")\n",
        "nombre = input()\n",
        "print(\"Hola \" + nombre)"
      ],
      "metadata": {
        "colab": {
          "base_uri": "https://localhost:8080/"
        },
        "id": "Vdf3d2hFbfBh",
        "outputId": "865b5663-7f98-46b5-e0f8-d2efe463b154"
      },
      "execution_count": null,
      "outputs": [
        {
          "output_type": "stream",
          "name": "stdout",
          "text": [
            "¿cual es tu nombre?\n",
            "Manuel\n",
            "Hola Manuel\n"
          ]
        }
      ]
    },
    {
      "cell_type": "code",
      "source": [
        "#Cuando ingresa un valor por el teclado lo hace como cadena\n",
        "print(\"numero 1: \")\n",
        "numero1 = input()\n",
        "print(\"numero 2: \")\n",
        "numero2 =input()\n",
        "numero3 = int(numero1)+int(numero2)\n",
        "print(f\"El resultado es {numero3}\")"
      ],
      "metadata": {
        "colab": {
          "base_uri": "https://localhost:8080/"
        },
        "id": "GePHqeEVcFIx",
        "outputId": "2780b6cf-ff23-4c72-f63e-b060d72dfdf8"
      },
      "execution_count": null,
      "outputs": [
        {
          "output_type": "stream",
          "name": "stdout",
          "text": [
            "numero 1: \n",
            "23\n",
            "numero 2: \n",
            "45\n",
            "El resultado es 68\n"
          ]
        }
      ]
    },
    {
      "cell_type": "code",
      "source": [],
      "metadata": {
        "id": "kGApp8M7cyzx"
      },
      "execution_count": null,
      "outputs": []
    }
  ]
}