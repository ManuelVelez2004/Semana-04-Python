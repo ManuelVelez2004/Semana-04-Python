{
  "nbformat": 4,
  "nbformat_minor": 0,
  "metadata": {
    "colab": {
      "provenance": [],
      "authorship_tag": "ABX9TyMiZNmrscKFqZ9BkX11yF4H",
      "include_colab_link": true
    },
    "kernelspec": {
      "name": "python3",
      "display_name": "Python 3"
    },
    "language_info": {
      "name": "python"
    }
  },
  "cells": [
    {
      "cell_type": "markdown",
      "metadata": {
        "id": "view-in-github",
        "colab_type": "text"
      },
      "source": [
        "<a href=\"https://colab.research.google.com/github/ManuelVelez2004/Semana-04-Python/blob/main/Semana_04_01.ipynb\" target=\"_parent\"><img src=\"https://colab.research.google.com/assets/colab-badge.svg\" alt=\"Open In Colab\"/></a>"
      ]
    },
    {
      "cell_type": "markdown",
      "source": [
        "#SEMANA 04\n",
        "Manuel Silverio Velez de Villa Huacachi\n",
        "\n",
        "Agenda\n",
        "1. Numeros\n",
        "2. Variables\n",
        "3. Cadenas\n",
        "4. Ingreso por el teclado\n",
        "5. Operadores"
      ],
      "metadata": {
        "id": "potxDoFjNMAJ"
      }
    },
    {
      "cell_type": "markdown",
      "source": [
        "1. Numeros"
      ],
      "metadata": {
        "id": "6oAXl9D6NfZx"
      }
    },
    {
      "cell_type": "code",
      "source": [
        "3+5"
      ],
      "metadata": {
        "colab": {
          "base_uri": "https://localhost:8080/"
        },
        "id": "8ihUIBOyNQoQ",
        "outputId": "eaa72797-5c18-4f9e-b1bb-3cfa6f3337c2"
      },
      "execution_count": null,
      "outputs": [
        {
          "output_type": "execute_result",
          "data": {
            "text/plain": [
              "8"
            ]
          },
          "metadata": {},
          "execution_count": 1
        }
      ]
    }
  ]
}